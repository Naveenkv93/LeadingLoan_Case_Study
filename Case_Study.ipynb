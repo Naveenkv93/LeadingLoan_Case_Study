{
 "cells": [
  {
   "cell_type": "markdown",
   "id": "6fef8c00",
   "metadata": {},
   "source": [
    "# 1. Data Sourcing"
   ]
  },
  {
   "cell_type": "markdown",
   "id": "9b19a9f6",
   "metadata": {},
   "source": [
    "#### Loading the data to CSV file and print first five rows"
   ]
  },
  {
   "cell_type": "code",
   "execution_count": 1,
   "id": "22d2ff05",
   "metadata": {
    "scrolled": false
   },
   "outputs": [
    {
     "data": {
      "text/html": [
       "<div>\n",
       "<style scoped>\n",
       "    .dataframe tbody tr th:only-of-type {\n",
       "        vertical-align: middle;\n",
       "    }\n",
       "\n",
       "    .dataframe tbody tr th {\n",
       "        vertical-align: top;\n",
       "    }\n",
       "\n",
       "    .dataframe thead th {\n",
       "        text-align: right;\n",
       "    }\n",
       "</style>\n",
       "<table border=\"1\" class=\"dataframe\">\n",
       "  <thead>\n",
       "    <tr style=\"text-align: right;\">\n",
       "      <th></th>\n",
       "      <th>id</th>\n",
       "      <th>member_id</th>\n",
       "      <th>loan_amnt</th>\n",
       "      <th>funded_amnt</th>\n",
       "      <th>funded_amnt_inv</th>\n",
       "      <th>term</th>\n",
       "      <th>int_rate</th>\n",
       "      <th>installment</th>\n",
       "      <th>grade</th>\n",
       "      <th>sub_grade</th>\n",
       "      <th>...</th>\n",
       "      <th>num_tl_90g_dpd_24m</th>\n",
       "      <th>num_tl_op_past_12m</th>\n",
       "      <th>pct_tl_nvr_dlq</th>\n",
       "      <th>percent_bc_gt_75</th>\n",
       "      <th>pub_rec_bankruptcies</th>\n",
       "      <th>tax_liens</th>\n",
       "      <th>tot_hi_cred_lim</th>\n",
       "      <th>total_bal_ex_mort</th>\n",
       "      <th>total_bc_limit</th>\n",
       "      <th>total_il_high_credit_limit</th>\n",
       "    </tr>\n",
       "  </thead>\n",
       "  <tbody>\n",
       "    <tr>\n",
       "      <th>0</th>\n",
       "      <td>1077501</td>\n",
       "      <td>1296599</td>\n",
       "      <td>5000</td>\n",
       "      <td>5000</td>\n",
       "      <td>4975.0</td>\n",
       "      <td>36 months</td>\n",
       "      <td>10.65%</td>\n",
       "      <td>162.87</td>\n",
       "      <td>B</td>\n",
       "      <td>B2</td>\n",
       "      <td>...</td>\n",
       "      <td>NaN</td>\n",
       "      <td>NaN</td>\n",
       "      <td>NaN</td>\n",
       "      <td>NaN</td>\n",
       "      <td>0.0</td>\n",
       "      <td>0.0</td>\n",
       "      <td>NaN</td>\n",
       "      <td>NaN</td>\n",
       "      <td>NaN</td>\n",
       "      <td>NaN</td>\n",
       "    </tr>\n",
       "    <tr>\n",
       "      <th>1</th>\n",
       "      <td>1077430</td>\n",
       "      <td>1314167</td>\n",
       "      <td>2500</td>\n",
       "      <td>2500</td>\n",
       "      <td>2500.0</td>\n",
       "      <td>60 months</td>\n",
       "      <td>15.27%</td>\n",
       "      <td>59.83</td>\n",
       "      <td>C</td>\n",
       "      <td>C4</td>\n",
       "      <td>...</td>\n",
       "      <td>NaN</td>\n",
       "      <td>NaN</td>\n",
       "      <td>NaN</td>\n",
       "      <td>NaN</td>\n",
       "      <td>0.0</td>\n",
       "      <td>0.0</td>\n",
       "      <td>NaN</td>\n",
       "      <td>NaN</td>\n",
       "      <td>NaN</td>\n",
       "      <td>NaN</td>\n",
       "    </tr>\n",
       "    <tr>\n",
       "      <th>2</th>\n",
       "      <td>1077175</td>\n",
       "      <td>1313524</td>\n",
       "      <td>2400</td>\n",
       "      <td>2400</td>\n",
       "      <td>2400.0</td>\n",
       "      <td>36 months</td>\n",
       "      <td>15.96%</td>\n",
       "      <td>84.33</td>\n",
       "      <td>C</td>\n",
       "      <td>C5</td>\n",
       "      <td>...</td>\n",
       "      <td>NaN</td>\n",
       "      <td>NaN</td>\n",
       "      <td>NaN</td>\n",
       "      <td>NaN</td>\n",
       "      <td>0.0</td>\n",
       "      <td>0.0</td>\n",
       "      <td>NaN</td>\n",
       "      <td>NaN</td>\n",
       "      <td>NaN</td>\n",
       "      <td>NaN</td>\n",
       "    </tr>\n",
       "    <tr>\n",
       "      <th>3</th>\n",
       "      <td>1076863</td>\n",
       "      <td>1277178</td>\n",
       "      <td>10000</td>\n",
       "      <td>10000</td>\n",
       "      <td>10000.0</td>\n",
       "      <td>36 months</td>\n",
       "      <td>13.49%</td>\n",
       "      <td>339.31</td>\n",
       "      <td>C</td>\n",
       "      <td>C1</td>\n",
       "      <td>...</td>\n",
       "      <td>NaN</td>\n",
       "      <td>NaN</td>\n",
       "      <td>NaN</td>\n",
       "      <td>NaN</td>\n",
       "      <td>0.0</td>\n",
       "      <td>0.0</td>\n",
       "      <td>NaN</td>\n",
       "      <td>NaN</td>\n",
       "      <td>NaN</td>\n",
       "      <td>NaN</td>\n",
       "    </tr>\n",
       "    <tr>\n",
       "      <th>4</th>\n",
       "      <td>1075358</td>\n",
       "      <td>1311748</td>\n",
       "      <td>3000</td>\n",
       "      <td>3000</td>\n",
       "      <td>3000.0</td>\n",
       "      <td>60 months</td>\n",
       "      <td>12.69%</td>\n",
       "      <td>67.79</td>\n",
       "      <td>B</td>\n",
       "      <td>B5</td>\n",
       "      <td>...</td>\n",
       "      <td>NaN</td>\n",
       "      <td>NaN</td>\n",
       "      <td>NaN</td>\n",
       "      <td>NaN</td>\n",
       "      <td>0.0</td>\n",
       "      <td>0.0</td>\n",
       "      <td>NaN</td>\n",
       "      <td>NaN</td>\n",
       "      <td>NaN</td>\n",
       "      <td>NaN</td>\n",
       "    </tr>\n",
       "  </tbody>\n",
       "</table>\n",
       "<p>5 rows × 111 columns</p>\n",
       "</div>"
      ],
      "text/plain": [
       "        id  member_id  loan_amnt  funded_amnt  funded_amnt_inv        term  \\\n",
       "0  1077501    1296599       5000         5000           4975.0   36 months   \n",
       "1  1077430    1314167       2500         2500           2500.0   60 months   \n",
       "2  1077175    1313524       2400         2400           2400.0   36 months   \n",
       "3  1076863    1277178      10000        10000          10000.0   36 months   \n",
       "4  1075358    1311748       3000         3000           3000.0   60 months   \n",
       "\n",
       "  int_rate  installment grade sub_grade  ... num_tl_90g_dpd_24m  \\\n",
       "0   10.65%       162.87     B        B2  ...                NaN   \n",
       "1   15.27%        59.83     C        C4  ...                NaN   \n",
       "2   15.96%        84.33     C        C5  ...                NaN   \n",
       "3   13.49%       339.31     C        C1  ...                NaN   \n",
       "4   12.69%        67.79     B        B5  ...                NaN   \n",
       "\n",
       "  num_tl_op_past_12m pct_tl_nvr_dlq  percent_bc_gt_75 pub_rec_bankruptcies  \\\n",
       "0                NaN            NaN               NaN                  0.0   \n",
       "1                NaN            NaN               NaN                  0.0   \n",
       "2                NaN            NaN               NaN                  0.0   \n",
       "3                NaN            NaN               NaN                  0.0   \n",
       "4                NaN            NaN               NaN                  0.0   \n",
       "\n",
       "  tax_liens tot_hi_cred_lim total_bal_ex_mort total_bc_limit  \\\n",
       "0       0.0             NaN               NaN            NaN   \n",
       "1       0.0             NaN               NaN            NaN   \n",
       "2       0.0             NaN               NaN            NaN   \n",
       "3       0.0             NaN               NaN            NaN   \n",
       "4       0.0             NaN               NaN            NaN   \n",
       "\n",
       "  total_il_high_credit_limit  \n",
       "0                        NaN  \n",
       "1                        NaN  \n",
       "2                        NaN  \n",
       "3                        NaN  \n",
       "4                        NaN  \n",
       "\n",
       "[5 rows x 111 columns]"
      ]
     },
     "execution_count": 1,
     "metadata": {},
     "output_type": "execute_result"
    }
   ],
   "source": [
    "import pandas as pd\n",
    "import numpy as np\n",
    "loan = pd.read_csv(r\"C:\\Users\\i320807\\Desktop\\DS\\Case Study\\loan\\loan.csv\",low_memory=False)\n",
    "loan.head()"
   ]
  },
  {
   "cell_type": "markdown",
   "id": "2bd56335",
   "metadata": {},
   "source": [
    "#### Print the info of data set to know column types and null values"
   ]
  },
  {
   "cell_type": "code",
   "execution_count": 2,
   "id": "035a159f",
   "metadata": {},
   "outputs": [
    {
     "name": "stdout",
     "output_type": "stream",
     "text": [
      "<class 'pandas.core.frame.DataFrame'>\n",
      "RangeIndex: 39717 entries, 0 to 39716\n",
      "Data columns (total 111 columns):\n",
      " #    Column                          Non-Null Count  Dtype  \n",
      "---   ------                          --------------  -----  \n",
      " 0    id                              39717 non-null  int64  \n",
      " 1    member_id                       39717 non-null  int64  \n",
      " 2    loan_amnt                       39717 non-null  int64  \n",
      " 3    funded_amnt                     39717 non-null  int64  \n",
      " 4    funded_amnt_inv                 39717 non-null  float64\n",
      " 5    term                            39717 non-null  object \n",
      " 6    int_rate                        39717 non-null  object \n",
      " 7    installment                     39717 non-null  float64\n",
      " 8    grade                           39717 non-null  object \n",
      " 9    sub_grade                       39717 non-null  object \n",
      " 10   emp_title                       37258 non-null  object \n",
      " 11   emp_length                      38642 non-null  object \n",
      " 12   home_ownership                  39717 non-null  object \n",
      " 13   annual_inc                      39717 non-null  float64\n",
      " 14   verification_status             39717 non-null  object \n",
      " 15   issue_d                         39717 non-null  object \n",
      " 16   loan_status                     39717 non-null  object \n",
      " 17   pymnt_plan                      39717 non-null  object \n",
      " 18   url                             39717 non-null  object \n",
      " 19   desc                            26777 non-null  object \n",
      " 20   purpose                         39717 non-null  object \n",
      " 21   title                           39706 non-null  object \n",
      " 22   zip_code                        39717 non-null  object \n",
      " 23   addr_state                      39717 non-null  object \n",
      " 24   dti                             39717 non-null  float64\n",
      " 25   delinq_2yrs                     39717 non-null  int64  \n",
      " 26   earliest_cr_line                39717 non-null  object \n",
      " 27   inq_last_6mths                  39717 non-null  int64  \n",
      " 28   mths_since_last_delinq          14035 non-null  float64\n",
      " 29   mths_since_last_record          2786 non-null   float64\n",
      " 30   open_acc                        39717 non-null  int64  \n",
      " 31   pub_rec                         39717 non-null  int64  \n",
      " 32   revol_bal                       39717 non-null  int64  \n",
      " 33   revol_util                      39667 non-null  object \n",
      " 34   total_acc                       39717 non-null  int64  \n",
      " 35   initial_list_status             39717 non-null  object \n",
      " 36   out_prncp                       39717 non-null  float64\n",
      " 37   out_prncp_inv                   39717 non-null  float64\n",
      " 38   total_pymnt                     39717 non-null  float64\n",
      " 39   total_pymnt_inv                 39717 non-null  float64\n",
      " 40   total_rec_prncp                 39717 non-null  float64\n",
      " 41   total_rec_int                   39717 non-null  float64\n",
      " 42   total_rec_late_fee              39717 non-null  float64\n",
      " 43   recoveries                      39717 non-null  float64\n",
      " 44   collection_recovery_fee         39717 non-null  float64\n",
      " 45   last_pymnt_d                    39646 non-null  object \n",
      " 46   last_pymnt_amnt                 39717 non-null  float64\n",
      " 47   next_pymnt_d                    1140 non-null   object \n",
      " 48   last_credit_pull_d              39715 non-null  object \n",
      " 49   collections_12_mths_ex_med      39661 non-null  float64\n",
      " 50   mths_since_last_major_derog     0 non-null      float64\n",
      " 51   policy_code                     39717 non-null  int64  \n",
      " 52   application_type                39717 non-null  object \n",
      " 53   annual_inc_joint                0 non-null      float64\n",
      " 54   dti_joint                       0 non-null      float64\n",
      " 55   verification_status_joint       0 non-null      float64\n",
      " 56   acc_now_delinq                  39717 non-null  int64  \n",
      " 57   tot_coll_amt                    0 non-null      float64\n",
      " 58   tot_cur_bal                     0 non-null      float64\n",
      " 59   open_acc_6m                     0 non-null      float64\n",
      " 60   open_il_6m                      0 non-null      float64\n",
      " 61   open_il_12m                     0 non-null      float64\n",
      " 62   open_il_24m                     0 non-null      float64\n",
      " 63   mths_since_rcnt_il              0 non-null      float64\n",
      " 64   total_bal_il                    0 non-null      float64\n",
      " 65   il_util                         0 non-null      float64\n",
      " 66   open_rv_12m                     0 non-null      float64\n",
      " 67   open_rv_24m                     0 non-null      float64\n",
      " 68   max_bal_bc                      0 non-null      float64\n",
      " 69   all_util                        0 non-null      float64\n",
      " 70   total_rev_hi_lim                0 non-null      float64\n",
      " 71   inq_fi                          0 non-null      float64\n",
      " 72   total_cu_tl                     0 non-null      float64\n",
      " 73   inq_last_12m                    0 non-null      float64\n",
      " 74   acc_open_past_24mths            0 non-null      float64\n",
      " 75   avg_cur_bal                     0 non-null      float64\n",
      " 76   bc_open_to_buy                  0 non-null      float64\n",
      " 77   bc_util                         0 non-null      float64\n",
      " 78   chargeoff_within_12_mths        39661 non-null  float64\n",
      " 79   delinq_amnt                     39717 non-null  int64  \n",
      " 80   mo_sin_old_il_acct              0 non-null      float64\n",
      " 81   mo_sin_old_rev_tl_op            0 non-null      float64\n",
      " 82   mo_sin_rcnt_rev_tl_op           0 non-null      float64\n",
      " 83   mo_sin_rcnt_tl                  0 non-null      float64\n",
      " 84   mort_acc                        0 non-null      float64\n",
      " 85   mths_since_recent_bc            0 non-null      float64\n",
      " 86   mths_since_recent_bc_dlq        0 non-null      float64\n",
      " 87   mths_since_recent_inq           0 non-null      float64\n",
      " 88   mths_since_recent_revol_delinq  0 non-null      float64\n",
      " 89   num_accts_ever_120_pd           0 non-null      float64\n",
      " 90   num_actv_bc_tl                  0 non-null      float64\n",
      " 91   num_actv_rev_tl                 0 non-null      float64\n",
      " 92   num_bc_sats                     0 non-null      float64\n",
      " 93   num_bc_tl                       0 non-null      float64\n",
      " 94   num_il_tl                       0 non-null      float64\n",
      " 95   num_op_rev_tl                   0 non-null      float64\n",
      " 96   num_rev_accts                   0 non-null      float64\n",
      " 97   num_rev_tl_bal_gt_0             0 non-null      float64\n",
      " 98   num_sats                        0 non-null      float64\n",
      " 99   num_tl_120dpd_2m                0 non-null      float64\n",
      " 100  num_tl_30dpd                    0 non-null      float64\n",
      " 101  num_tl_90g_dpd_24m              0 non-null      float64\n",
      " 102  num_tl_op_past_12m              0 non-null      float64\n",
      " 103  pct_tl_nvr_dlq                  0 non-null      float64\n",
      " 104  percent_bc_gt_75                0 non-null      float64\n",
      " 105  pub_rec_bankruptcies            39020 non-null  float64\n",
      " 106  tax_liens                       39678 non-null  float64\n",
      " 107  tot_hi_cred_lim                 0 non-null      float64\n",
      " 108  total_bal_ex_mort               0 non-null      float64\n",
      " 109  total_bc_limit                  0 non-null      float64\n",
      " 110  total_il_high_credit_limit      0 non-null      float64\n",
      "dtypes: float64(74), int64(13), object(24)\n",
      "memory usage: 33.6+ MB\n"
     ]
    }
   ],
   "source": [
    "loan.info(verbose=True, show_counts=True)"
   ]
  },
  {
   "cell_type": "markdown",
   "id": "f6c8ccae",
   "metadata": {},
   "source": [
    "## 1.1 Observation \n",
    "From info we can conclude there are many columns which are having empty values in columns. Hence next action is to clean empty values"
   ]
  },
  {
   "cell_type": "markdown",
   "id": "2472aa4e",
   "metadata": {},
   "source": [
    "# 2. Data Cleaning"
   ]
  },
  {
   "cell_type": "markdown",
   "id": "93906287",
   "metadata": {},
   "source": [
    "####  Remove columns having null values"
   ]
  },
  {
   "cell_type": "code",
   "execution_count": 3,
   "id": "a8fac7d5",
   "metadata": {},
   "outputs": [],
   "source": [
    "loan_column_filter = loan.dropna(axis=1, how='all')"
   ]
  },
  {
   "cell_type": "code",
   "execution_count": 4,
   "id": "f497eaf4",
   "metadata": {},
   "outputs": [
    {
     "name": "stdout",
     "output_type": "stream",
     "text": [
      "(39717, 111)\n",
      "(39717, 57)\n"
     ]
    }
   ],
   "source": [
    "print(loan.shape)\n",
    "print(loan_column_filter.shape)"
   ]
  },
  {
   "cell_type": "markdown",
   "id": "ec5d3d12",
   "metadata": {},
   "source": [
    "## 2.1 Observation\n",
    "After removing null/empty columns data column size reduced to 57 from 111"
   ]
  },
  {
   "cell_type": "markdown",
   "id": "10182b57",
   "metadata": {},
   "source": [
    "#### Dropping columns having values only one unique value across Rows"
   ]
  },
  {
   "cell_type": "code",
   "execution_count": 5,
   "id": "ccf26ef6",
   "metadata": {},
   "outputs": [
    {
     "data": {
      "text/plain": [
       "tax_liens                     1\n",
       "delinq_amnt                   1\n",
       "chargeoff_within_12_mths      1\n",
       "acc_now_delinq                1\n",
       "application_type              1\n",
       "policy_code                   1\n",
       "collections_12_mths_ex_med    1\n",
       "pymnt_plan                    1\n",
       "initial_list_status           1\n",
       "term                          2\n",
       "next_pymnt_d                  2\n",
       "pub_rec_bankruptcies          3\n",
       "loan_status                   3\n",
       "verification_status           3\n",
       "pub_rec                       5\n",
       "dtype: int64"
      ]
     },
     "execution_count": 5,
     "metadata": {},
     "output_type": "execute_result"
    }
   ],
   "source": [
    "loan_column_filter.nunique().sort_values().head(15)"
   ]
  },
  {
   "cell_type": "code",
   "execution_count": 6,
   "id": "537f2bcf",
   "metadata": {},
   "outputs": [],
   "source": [
    "loan_column_filter = loan_column_filter.drop([\"tax_liens\",\"delinq_amnt\",\"chargeoff_within_12_mths\",\"acc_now_delinq\",\"application_type\",\"policy_code\",\"collections_12_mths_ex_med\",\"pymnt_plan\",\"initial_list_status\"],axis=1)"
   ]
  },
  {
   "cell_type": "markdown",
   "id": "329780a3",
   "metadata": {},
   "source": [
    "#### Check for Percentage of empty/null present in each column"
   ]
  },
  {
   "cell_type": "code",
   "execution_count": 7,
   "id": "0d84967f",
   "metadata": {},
   "outputs": [
    {
     "data": {
      "text/plain": [
       "id                          0.000000\n",
       "member_id                   0.000000\n",
       "loan_amnt                   0.000000\n",
       "funded_amnt                 0.000000\n",
       "funded_amnt_inv             0.000000\n",
       "term                        0.000000\n",
       "int_rate                    0.000000\n",
       "installment                 0.000000\n",
       "grade                       0.000000\n",
       "sub_grade                   0.000000\n",
       "emp_title                   6.191303\n",
       "emp_length                  2.706650\n",
       "home_ownership              0.000000\n",
       "annual_inc                  0.000000\n",
       "verification_status         0.000000\n",
       "issue_d                     0.000000\n",
       "loan_status                 0.000000\n",
       "url                         0.000000\n",
       "desc                       32.580507\n",
       "purpose                     0.000000\n",
       "title                       0.027696\n",
       "zip_code                    0.000000\n",
       "addr_state                  0.000000\n",
       "dti                         0.000000\n",
       "delinq_2yrs                 0.000000\n",
       "earliest_cr_line            0.000000\n",
       "inq_last_6mths              0.000000\n",
       "mths_since_last_delinq     64.662487\n",
       "mths_since_last_record     92.985372\n",
       "open_acc                    0.000000\n",
       "pub_rec                     0.000000\n",
       "revol_bal                   0.000000\n",
       "revol_util                  0.125891\n",
       "total_acc                   0.000000\n",
       "out_prncp                   0.000000\n",
       "out_prncp_inv               0.000000\n",
       "total_pymnt                 0.000000\n",
       "total_pymnt_inv             0.000000\n",
       "total_rec_prncp             0.000000\n",
       "total_rec_int               0.000000\n",
       "total_rec_late_fee          0.000000\n",
       "recoveries                  0.000000\n",
       "collection_recovery_fee     0.000000\n",
       "last_pymnt_d                0.178765\n",
       "last_pymnt_amnt             0.000000\n",
       "next_pymnt_d               97.129693\n",
       "last_credit_pull_d          0.005036\n",
       "pub_rec_bankruptcies        1.754916\n",
       "dtype: float64"
      ]
     },
     "execution_count": 7,
     "metadata": {},
     "output_type": "execute_result"
    }
   ],
   "source": [
    "# Identify the percentage of values in each column\n",
    "value_percent = (loan_column_filter.isnull().sum()/loan_column_filter.shape[0])*100\n",
    "value_percent"
   ]
  },
  {
   "cell_type": "markdown",
   "id": "e2311684",
   "metadata": {},
   "source": [
    "## 2.2 Observations\n",
    "There are columns such as mths_since_last_delinq,mths_since_last_record and next_pymnt_d having more than 60% Null values which won't provide much insights to the data and hence removing them"
   ]
  },
  {
   "cell_type": "code",
   "execution_count": 8,
   "id": "0be1409a",
   "metadata": {},
   "outputs": [],
   "source": [
    "drop_columns = value_percent[value_percent>60].keys()\n",
    "\n",
    "loan_column_filter = loan_column_filter.drop(drop_columns, axis=1)"
   ]
  },
  {
   "cell_type": "markdown",
   "id": "c63df21b",
   "metadata": {},
   "source": [
    "## 2.3 Observations\n",
    "There are certain behaviour variables which are not available at the time of applying loans and hence these columns can be removed since they can't be used to predict loan approval\n",
    "Below are the set of variables\n",
    "**delinq_2yrs,earliest_cr_line,inq_last_6mths,open_acc,pub_rec,revol_bal,revol_util,total_acc,out_prncp,out_prncp_inv,total_pymnt,total_pymnt,inv,total_rec_int,total_rec_late_fee,recoveries,collection_recovery_fee,last_pymnt_d,last_pymnt_amnt,last_credit_pull_d**"
   ]
  },
  {
   "cell_type": "code",
   "execution_count": 9,
   "id": "1f0dce21",
   "metadata": {},
   "outputs": [],
   "source": [
    "loan_column_filter = loan_column_filter.drop([\"delinq_2yrs\",\"earliest_cr_line\",\"inq_last_6mths\",\"open_acc\",\"pub_rec\",\"revol_bal\",\"revol_util\",\"total_acc\",\"out_prncp\",\"out_prncp_inv\",\"total_pymnt\",\"total_pymnt_inv\",\"total_rec_int\",\"total_rec_late_fee\",\"recoveries\",\"collection_recovery_fee\",\"last_pymnt_d\",\"last_pymnt_amnt\",\"last_credit_pull_d\"],axis=1)"
   ]
  },
  {
   "cell_type": "code",
   "execution_count": 10,
   "id": "190be4e3",
   "metadata": {},
   "outputs": [
    {
     "data": {
      "text/plain": [
       "(39717, 26)"
      ]
     },
     "execution_count": 10,
     "metadata": {},
     "output_type": "execute_result"
    }
   ],
   "source": [
    "loan_column_filter.shape"
   ]
  },
  {
   "cell_type": "markdown",
   "id": "3cfe0067",
   "metadata": {},
   "source": [
    "## 2.4 Observations\n",
    "There are certain columns such as emp_title and emp_length,pub_rec_bankruptcies and desc having some percentage of null values, lets analyse Values of each column"
   ]
  },
  {
   "cell_type": "code",
   "execution_count": 11,
   "id": "39878c7f",
   "metadata": {},
   "outputs": [
    {
     "data": {
      "text/plain": [
       "US Army                              134\n",
       "Bank of America                      109\n",
       "IBM                                   66\n",
       "AT&T                                  59\n",
       "Kaiser Permanente                     56\n",
       "                                    ... \n",
       "Community College of Philadelphia      1\n",
       "AMEC                                   1\n",
       "lee county sheriff                     1\n",
       "Bacon County Board of Education        1\n",
       "Evergreen Center                       1\n",
       "Name: emp_title, Length: 28820, dtype: int64"
      ]
     },
     "execution_count": 11,
     "metadata": {},
     "output_type": "execute_result"
    }
   ],
   "source": [
    "loan_column_filter.emp_title.value_counts()"
   ]
  },
  {
   "cell_type": "code",
   "execution_count": 12,
   "id": "7560e727",
   "metadata": {},
   "outputs": [
    {
     "data": {
      "text/plain": [
       "10+ years    8879\n",
       "< 1 year     4583\n",
       "2 years      4388\n",
       "3 years      4095\n",
       "4 years      3436\n",
       "5 years      3282\n",
       "1 year       3240\n",
       "6 years      2229\n",
       "7 years      1773\n",
       "8 years      1479\n",
       "9 years      1258\n",
       "Name: emp_length, dtype: int64"
      ]
     },
     "execution_count": 12,
     "metadata": {},
     "output_type": "execute_result"
    }
   ],
   "source": [
    "loan_column_filter.emp_length.value_counts()"
   ]
  },
  {
   "cell_type": "code",
   "execution_count": 13,
   "id": "843c2237",
   "metadata": {},
   "outputs": [
    {
     "data": {
      "text/plain": [
       "0.0    37339\n",
       "1.0     1674\n",
       "2.0        7\n",
       "Name: pub_rec_bankruptcies, dtype: int64"
      ]
     },
     "execution_count": 13,
     "metadata": {},
     "output_type": "execute_result"
    }
   ],
   "source": [
    "loan_column_filter.pub_rec_bankruptcies.value_counts()"
   ]
  },
  {
   "cell_type": "markdown",
   "id": "3a1adcce",
   "metadata": {},
   "source": [
    "## 2.5 Observations\n",
    "From above results we can derive below points \\\n",
    "    1. **desc** column provide information about borrower as short text. Since its paragraph text, dropping the column\\\n",
    "    2. **emp_title** is having many discrete values - this will be unorder categorical variable. Dropping this column(can't derive insights from this)\\\n",
    "    3. **emp_year** is having finite set - Ordered categorical variable - keeping the column\\\n",
    "    4. **pub_rec_bankruptcies** column having some empty value. Hence removing columns with empty values"
   ]
  },
  {
   "cell_type": "code",
   "execution_count": 14,
   "id": "7d2c4685",
   "metadata": {},
   "outputs": [],
   "source": [
    "loan_column_filter.drop('desc',axis=1,inplace=True)"
   ]
  },
  {
   "cell_type": "code",
   "execution_count": 15,
   "id": "45d4e56f",
   "metadata": {},
   "outputs": [],
   "source": [
    "loan_column_filter.drop('emp_title',axis=1,inplace=True)"
   ]
  },
  {
   "cell_type": "code",
   "execution_count": 16,
   "id": "8131fda1",
   "metadata": {},
   "outputs": [
    {
     "data": {
      "text/plain": [
       "697"
      ]
     },
     "execution_count": 16,
     "metadata": {},
     "output_type": "execute_result"
    }
   ],
   "source": [
    "len(loan_column_filter[loan_column_filter.pub_rec_bankruptcies.isnull()])"
   ]
  },
  {
   "cell_type": "code",
   "execution_count": 17,
   "id": "485c3e3a",
   "metadata": {},
   "outputs": [],
   "source": [
    "#Remove the empty rows for column pub_rec_bankruptcies\n",
    "loan_column_filter = loan_column_filter[~loan_column_filter.pub_rec_bankruptcies.isnull()]"
   ]
  },
  {
   "cell_type": "code",
   "execution_count": 18,
   "id": "0508737a",
   "metadata": {},
   "outputs": [
    {
     "data": {
      "text/plain": [
       "(39020, 24)"
      ]
     },
     "execution_count": 18,
     "metadata": {},
     "output_type": "execute_result"
    }
   ],
   "source": [
    "loan_column_filter.shape"
   ]
  },
  {
   "cell_type": "markdown",
   "id": "d8f3bea9",
   "metadata": {},
   "source": [
    "## 2.6 Observation\n",
    "Since purpose of this EDA is to decide on whether loan applicant is eligible for taking loan(Are they able to repay the loan or not), we can **remove the records where loan staus is Current**"
   ]
  },
  {
   "cell_type": "code",
   "execution_count": 19,
   "id": "11acbb7d",
   "metadata": {},
   "outputs": [
    {
     "data": {
      "text/plain": [
       "1140"
      ]
     },
     "execution_count": 19,
     "metadata": {},
     "output_type": "execute_result"
    }
   ],
   "source": [
    "len(loan_column_filter[loan_column_filter.loan_status == 'Current'])"
   ]
  },
  {
   "cell_type": "code",
   "execution_count": 20,
   "id": "e7e0f273",
   "metadata": {},
   "outputs": [],
   "source": [
    "#Remove 1140 records having status as Current\n",
    "loan_column_filter = loan_column_filter[~(loan_column_filter.loan_status =='Current')]"
   ]
  },
  {
   "cell_type": "code",
   "execution_count": 21,
   "id": "7d632d49",
   "metadata": {},
   "outputs": [
    {
     "data": {
      "text/plain": [
       "(37880, 24)"
      ]
     },
     "execution_count": 21,
     "metadata": {},
     "output_type": "execute_result"
    }
   ],
   "source": [
    "loan_column_filter.shape"
   ]
  },
  {
   "cell_type": "markdown",
   "id": "a7399dd8",
   "metadata": {},
   "source": [
    "## 2.7 Observation\n",
    "Among columns **int_rate** column important for analysis and since we need to do numeric operations on int_rate, remove % symbol from that column and convert it into number\n"
   ]
  },
  {
   "cell_type": "code",
   "execution_count": 22,
   "id": "ffd0a65d",
   "metadata": {},
   "outputs": [],
   "source": [
    "loan_column_filter.int_rate = loan_column_filter.int_rate.apply(lambda x: float(x[:-1]) if(\"%\" in x) else float(x))"
   ]
  },
  {
   "cell_type": "code",
   "execution_count": 23,
   "id": "a5c4729a",
   "metadata": {},
   "outputs": [
    {
     "data": {
      "text/plain": [
       "10.99    913\n",
       "11.49    790\n",
       "7.51     787\n",
       "13.49    749\n",
       "7.88     725\n",
       "        ... \n",
       "17.46      1\n",
       "20.52      1\n",
       "16.01      1\n",
       "16.96      1\n",
       "11.22      1\n",
       "Name: int_rate, Length: 336, dtype: int64"
      ]
     },
     "execution_count": 23,
     "metadata": {},
     "output_type": "execute_result"
    }
   ],
   "source": [
    "loan_column_filter.int_rate.value_counts()"
   ]
  },
  {
   "cell_type": "code",
   "execution_count": 24,
   "id": "77a18aed",
   "metadata": {},
   "outputs": [
    {
     "data": {
      "text/plain": [
       "Index(['id', 'member_id', 'loan_amnt', 'funded_amnt', 'funded_amnt_inv',\n",
       "       'term', 'int_rate', 'installment', 'grade', 'sub_grade', 'emp_length',\n",
       "       'home_ownership', 'annual_inc', 'verification_status', 'issue_d',\n",
       "       'loan_status', 'url', 'purpose', 'title', 'zip_code', 'addr_state',\n",
       "       'dti', 'total_rec_prncp', 'pub_rec_bankruptcies'],\n",
       "      dtype='object')"
      ]
     },
     "execution_count": 24,
     "metadata": {},
     "output_type": "execute_result"
    }
   ],
   "source": [
    "loan_column_filter.columns"
   ]
  },
  {
   "cell_type": "markdown",
   "id": "43e8e84a",
   "metadata": {},
   "source": [
    "# 3. Univariat Analysis"
   ]
  },
  {
   "cell_type": "code",
   "execution_count": 25,
   "id": "6ac1fd85",
   "metadata": {},
   "outputs": [],
   "source": [
    "#Define imports for plots\n",
    "import matplotlib.pyplot as plt\n",
    "import seaborn as sns\n"
   ]
  },
  {
   "cell_type": "markdown",
   "id": "3344954f",
   "metadata": {},
   "source": [
    "### Lets begin analysis with first 3 key columns Loan amount,Funded amount,Funded Invester amount"
   ]
  },
  {
   "cell_type": "code",
   "execution_count": 26,
   "id": "13b3d40b",
   "metadata": {},
   "outputs": [
    {
     "name": "stdout",
     "output_type": "stream",
     "text": [
      "count    37880.000000\n",
      "mean     11067.092793\n",
      "std       7364.014949\n",
      "min        500.000000\n",
      "25%       5375.000000\n",
      "50%       9637.500000\n",
      "75%      15000.000000\n",
      "max      35000.000000\n",
      "Name: loan_amnt, dtype: float64\n"
     ]
    },
    {
     "data": {
      "image/png": "[encoded data removed]",
      "text/plain": [
       "<Figure size 576x576 with 3 Axes>"
      ]
     },
     "metadata": {
      "needs_background": "light"
     },
     "output_type": "display_data"
    }
   ],
   "source": [
    "fig, ax1 = plt.subplots(1,3,figsize=(8, 8),constrained_layout=True)\n",
    "#tidy = df.melt(id_vars='Factor').rename(columns=str.title)\n",
    "sns.boxplot(y=loan_column_filter.loan_amnt,ax=ax1[0])\n",
    "ax1[0].set_title(\"Loan amount\")\n",
    "sns.boxplot(y=loan_column_filter.funded_amnt,ax=ax1[1])\n",
    "ax1[1].set_title(\"Funded amount\")\n",
    "sns.boxplot(y=loan_column_filter.funded_amnt_inv,ax=ax1[2])\n",
    "ax1[2].set_title(\"Funded Invester amount\")\n",
    "#seaborn.barplot(y='Value',data=loan_column_filter, ax=ax1)\n",
    "print(loan_column_filter.loan_amnt.describe())\n",
    "sns.despine(fig)"
   ]
  },
  {
   "cell_type": "markdown",
   "id": "b9d63b87",
   "metadata": {},
   "source": [
    "## 3.1 Observations\n",
    "From above plots we can conclude that **mjority of the cases loan amount(loan_amnt) requested are approved by approver(funded_amnt) and investers(funded_amnt_inv)**\\\n",
    "### Hence we can consider Loan amount itself for further analysis\n",
    "For overall data shared below are the loan amounts\\\n",
    "    1. Mean = 11067\\\n",
    "    2. Max = 500\\\n",
    "    3. Min = 35000\\\n",
    "    4. 50 % = 9637"
   ]
  },
  {
   "cell_type": "code",
   "execution_count": 27,
   "id": "14a14097",
   "metadata": {},
   "outputs": [
    {
     "data": {
      "image/png": "[encoded data removed]",
      "text/plain": [
       "<Figure size 432x288 with 1 Axes>"
      ]
     },
     "metadata": {
      "needs_background": "light"
     },
     "output_type": "display_data"
    }
   ],
   "source": [
    "# Plotting historm for loan amount requested\n",
    "#sns.histplot(loan_column_filter.loan_amnt)\n",
    "import warnings\n",
    "warnings.filterwarnings('ignore')\n",
    "sns.distplot(a=loan_column_filter.loan_amnt, bins=40, color='purple',\n",
    "             hist_kws={\"edgecolor\": 'black'})\n",
    "plt.show()"
   ]
  },
  {
   "cell_type": "markdown",
   "id": "7bdaaa96",
   "metadata": {},
   "source": [
    "## 3.2 Observations\n",
    "For the given data set more people are opting for loan between 3000 to 10000 "
   ]
  },
  {
   "cell_type": "code",
   "execution_count": 28,
   "id": "140fee50",
   "metadata": {
    "scrolled": true
   },
   "outputs": [
    {
     "data": {
      "image/png": "[encoded data removed]",
      "text/plain": [
       "<Figure size 864x432 with 3 Axes>"
      ]
     },
     "metadata": {
      "needs_background": "light"
     },
     "output_type": "display_data"
    }
   ],
   "source": [
    "fig, t = plt.subplots(1,3,figsize=(12, 6),constrained_layout=True)\n",
    "sns.countplot(x=loan_column_filter.term,ax=t[0])\n",
    "t[0].set_title(\"Loan Term\")\n",
    "sns.countplot(x=loan_column_filter.home_ownership,ax=t[1])\n",
    "t[1].set_title(\"Applicant Ownership\")\n",
    "sns.countplot(x=loan_column_filter.grade,ax=t[2])\n",
    "t[2].set_title(\"Applicant Grade\")\n",
    "plt.show()"
   ]
  },
  {
   "cell_type": "code",
   "execution_count": 29,
   "id": "9e0c7d33",
   "metadata": {
    "scrolled": true
   },
   "outputs": [
    {
     "data": {
      "image/png": "[encoded data removed]",
      "text/plain": [
       "<Figure size 864x432 with 3 Axes>"
      ]
     },
     "metadata": {
      "needs_background": "light"
     },
     "output_type": "display_data"
    }
   ],
   "source": [
    "fig, t = plt.subplots(1,3,figsize=(12, 6),constrained_layout=True)\n",
    "chart = sns.countplot(x=loan_column_filter.emp_length,ax=t[0])\n",
    "chart.set_xticklabels(chart.get_xticklabels(), rotation=45)\n",
    "t[0].set_title(\"Employment length\")\n",
    "sns.countplot(x=loan_column_filter.verification_status,ax=t[1])\n",
    "t[1].set_title(\"Verification status\")\n",
    "sns.countplot(x=loan_column_filter.loan_status,ax=t[2])\n",
    "t[2].set_title(\"Loan Status\")\n",
    "plt.show()"
   ]
  },
  {
   "cell_type": "markdown",
   "id": "0431a720",
   "metadata": {},
   "source": [
    "## 3.3 Observations\n",
    "1. **Term** : People opting for short team loan (36 months) are relatively higher compated to long term loans (60 months)\\\n",
    "2. **Home ownership** : Applicant who are having Rent or Mortage property are more intended to take loan over others\\\n",
    "3. **Grade** : People from grade A and B are among the most who take the loan\\\n",
    "4. **Employment Length** - Among applicants employees having maximum group of people are having 10+ years years experience\\\n",
    "5. **Verification Status** - For provided data we can infer majority of the loans are issued without verification\\\n",
    "6.**Loan Status** : About 85% of loans are fully paid and 15% of loans are Charged off"
   ]
  },
  {
   "cell_type": "markdown",
   "id": "89c37fad",
   "metadata": {},
   "source": [
    "#### From loan issue date we can derive month to understand distribution of month for loans"
   ]
  },
  {
   "cell_type": "code",
   "execution_count": 51,
   "id": "085403f9",
   "metadata": {},
   "outputs": [
    {
     "data": {
      "text/plain": [
       "0        Dec-11\n",
       "1        Dec-11\n",
       "2        Dec-11\n",
       "3        Dec-11\n",
       "5        Dec-11\n",
       "          ...  \n",
       "39562    Nov-07\n",
       "39573    Nov-07\n",
       "39623    Oct-07\n",
       "39666    Aug-07\n",
       "39680    Aug-07\n",
       "Name: issue_d, Length: 37880, dtype: object"
      ]
     },
     "execution_count": 51,
     "metadata": {},
     "output_type": "execute_result"
    }
   ],
   "source": [
    "loan_column_filter[\"issue_d\"]"
   ]
  },
  {
   "cell_type": "code",
   "execution_count": 66,
   "id": "b93037f0",
   "metadata": {},
   "outputs": [],
   "source": [
    "loan_column_filter[\"issue_month\"] = loan_column_filter.issue_d.apply(lambda x : x.split(\"-\")[0] if(\"-\" in x) else x )"
   ]
  },
  {
   "cell_type": "code",
   "execution_count": 67,
   "id": "a478c9fe",
   "metadata": {},
   "outputs": [
    {
     "data": {
      "text/plain": [
       "Dec    4132\n",
       "Nov    3971\n",
       "Oct    3715\n",
       "Sep    3478\n",
       "Aug    3355\n",
       "Jul    3321\n",
       "Jun    3179\n",
       "May    2917\n",
       "Apr    2831\n",
       "Mar    2576\n",
       "Jan    2214\n",
       "Feb    2191\n",
       "Name: issue_month, dtype: int64"
      ]
     },
     "execution_count": 67,
     "metadata": {},
     "output_type": "execute_result"
    }
   ],
   "source": [
    "loan_column_filter.issue_month.value_counts()"
   ]
  },
  {
   "cell_type": "code",
   "execution_count": 78,
   "id": "9260cd5f",
   "metadata": {},
   "outputs": [
    {
     "data": {
      "image/png": "[encoded data removed]",
      "text/plain": [
       "<Figure size 432x288 with 1 Axes>"
      ]
     },
     "metadata": {
      "needs_background": "light"
     },
     "output_type": "display_data"
    }
   ],
   "source": [
    "sns.countplot(x=loan_column_filter.issue_month)\n",
    "plt.title(\"Loan applied month\")\n",
    "plt.show()"
   ]
  },
  {
   "cell_type": "code",
   "execution_count": 75,
   "id": "24920d31",
   "metadata": {},
   "outputs": [
    {
     "data": {
      "image/png": "[encoded data removed]",
      "text/plain": [
       "<Figure size 1440x720 with 2 Axes>"
      ]
     },
     "metadata": {
      "needs_background": "light"
     },
     "output_type": "display_data"
    }
   ],
   "source": [
    "fig, t = plt.subplots(1,2,figsize=(20, 10),constrained_layout=True)\n",
    "chart = sns.countplot(x=loan_column_filter.addr_state,ax=t[0])\n",
    "chart.set_xticklabels(chart.get_xticklabels(), rotation=90)\n",
    "t[0].set_title(\"Loan applicant State\")\n",
    "chart2 = sns.countplot(x=loan_column_filter.purpose,ax=t[1])\n",
    "chart2.set_xticklabels(chart2.get_xticklabels(), rotation=90)\n",
    "t[1].set_title(\"Loan Purpose\")\n",
    "plt.show()"
   ]
  },
  {
   "cell_type": "markdown",
   "id": "2dc48561",
   "metadata": {},
   "source": [
    "## 3.4 Observations\n",
    "1. **Loan issue month** : Number of people opting for loan increases as month progresses from Jan to Dec\\\n",
    "2. **Loan applicant Satat** : People are from CA and NY are most who applied for the loan\\\n",
    "3. **Pupose** : Debt consolidation is the most purpose for people who are applying for the loans"
   ]
  },
  {
   "cell_type": "markdown",
   "id": "3ace1bf8",
   "metadata": {},
   "source": [
    "## Conclusion from univariat analysis\n",
    "Single column analysis provided idea about distribution of data for each columns. Next will look into Bivariat analysis to derive dependency of all these variables with loan status"
   ]
  },
  {
   "cell_type": "markdown",
   "id": "d6f6c393",
   "metadata": {},
   "source": [
    "# 4. Bivariat Analysis"
   ]
  },
  {
   "cell_type": "markdown",
   "id": "f7ecc356",
   "metadata": {},
   "source": [
    "### Loan status is the driving factor for the analysis and hence we go with calculating "
   ]
  },
  {
   "cell_type": "markdown",
   "id": "1ab936a1",
   "metadata": {},
   "source": [
    "####  loan status vs loan amount"
   ]
  },
  {
   "cell_type": "code",
   "execution_count": 30,
   "id": "17dd245b",
   "metadata": {},
   "outputs": [
    {
     "data": {
      "image/png": "[encoded data removed]",
      "text/plain": [
       "<Figure size 432x288 with 1 Axes>"
      ]
     },
     "metadata": {
      "needs_background": "light"
     },
     "output_type": "display_data"
    }
   ],
   "source": [
    "chart = sns.boxplot(x=loan_column_filter.loan_status,y=loan_column_filter.loan_amnt)\n",
    "chart.set_title(\"Loan amount v/s Loan Status\")\n",
    "plt.show()"
   ]
  },
  {
   "cell_type": "markdown",
   "id": "6b17ef68",
   "metadata": {},
   "source": [
    "#### loan status vs interest rate"
   ]
  },
  {
   "cell_type": "code",
   "execution_count": 31,
   "id": "746d6ab8",
   "metadata": {},
   "outputs": [
    {
     "data": {
      "image/png": "[encoded data removed]",
      "text/plain": [
       "<Figure size 432x288 with 1 Axes>"
      ]
     },
     "metadata": {
      "needs_background": "light"
     },
     "output_type": "display_data"
    }
   ],
   "source": [
    "chart = sns.boxplot(x=loan_column_filter.loan_status,y=loan_column_filter.int_rate)\n",
    "chart.set_title(\"Loan Staus v/s Intrest Rate\")\n",
    "plt.show()"
   ]
  },
  {
   "cell_type": "markdown",
   "id": "6abebd4a",
   "metadata": {},
   "source": [
    "#### loan status vs Term"
   ]
  },
  {
   "cell_type": "code",
   "execution_count": 32,
   "id": "77b276dd",
   "metadata": {},
   "outputs": [
    {
     "data": {
      "image/png": "[encoded data removed]",
      "text/plain": [
       "<Figure size 432x288 with 1 Axes>"
      ]
     },
     "metadata": {
      "needs_background": "light"
     },
     "output_type": "display_data"
    }
   ],
   "source": [
    "#Group by Term and status and find out the count\n",
    "df_derive = loan_column_filter.groupby(['term', 'loan_status'], as_index=False)['id'].count()\n",
    "df_derive['percentage'] = df_derive.groupby('term').transform(lambda x: x/x.sum())\n",
    "chat = sns.barplot(x='term', y='percentage', hue='loan_status', data=df_derive, )\n",
    "plt.title(\"Loan Staus v/s Loan Term\")\n",
    "plt.legend(loc='center left', bbox_to_anchor=(1.0, 0.5))\n",
    "plt.show()"
   ]
  },
  {
   "cell_type": "markdown",
   "id": "befdb04c",
   "metadata": {},
   "source": [
    "#### loan status vs Installments"
   ]
  },
  {
   "cell_type": "code",
   "execution_count": 33,
   "id": "19a7579d",
   "metadata": {},
   "outputs": [
    {
     "data": {
      "image/png": "[encoded data removed]",
      "text/plain": [
       "<Figure size 432x288 with 1 Axes>"
      ]
     },
     "metadata": {
      "needs_background": "light"
     },
     "output_type": "display_data"
    }
   ],
   "source": [
    "chart = sns.boxplot(x=loan_column_filter.loan_status,y=loan_column_filter.installment)\n",
    "chart.set_title(\"Loan Staus v/s Installments\")\n",
    "plt.show()"
   ]
  },
  {
   "cell_type": "markdown",
   "id": "0b797047",
   "metadata": {},
   "source": [
    "#### loan status vs Grades"
   ]
  },
  {
   "cell_type": "code",
   "execution_count": 34,
   "id": "681ba525",
   "metadata": {},
   "outputs": [
    {
     "data": {
      "image/png": "[encoded data removed]",
      "text/plain": [
       "<Figure size 432x288 with 1 Axes>"
      ]
     },
     "metadata": {
      "needs_background": "light"
     },
     "output_type": "display_data"
    }
   ],
   "source": [
    "#Group by Grade and status and find out the count\n",
    "df_derive = loan_column_filter.groupby(['grade', 'loan_status'], as_index=False)['id'].count()\n",
    "df_derive['percentage'] = df_derive.groupby('grade').transform(lambda x: x/x.sum())\n",
    "chat = sns.barplot(x='grade', y='percentage', hue='loan_status', data=df_derive, )\n",
    "plt.title(\"Loan Staus v/s Grade\")\n",
    "plt.legend(loc='center left', bbox_to_anchor=(1.0, 0.5))\n",
    "plt.show()"
   ]
  },
  {
   "cell_type": "markdown",
   "id": "7b1f74e0",
   "metadata": {},
   "source": [
    "#### loan status vs Subgrades"
   ]
  },
  {
   "cell_type": "code",
   "execution_count": 35,
   "id": "1db04f93",
   "metadata": {},
   "outputs": [
    {
     "data": {
      "image/png": "[encoded data removed]",
      "text/plain": [
       "<Figure size 1080x1080 with 1 Axes>"
      ]
     },
     "metadata": {
      "needs_background": "light"
     },
     "output_type": "display_data"
    }
   ],
   "source": [
    "#Group by Grade,SubGrade and status and find out the count\n",
    "df_derive = loan_column_filter.groupby(['grade','sub_grade','loan_status'], as_index=False)['id'].count()\n",
    "df_derive['percentage'] = df_derive.groupby(['grade','sub_grade']).transform(lambda x: x/x.sum())\n",
    "plt.figure(figsize=(15,15))\n",
    "chat = sns.barplot(x='sub_grade', y='percentage', hue='loan_status', data=df_derive, )\n",
    "plt.title(\"Loan Staus v/s SubGrade\")\n",
    "plt.legend(loc='center left', bbox_to_anchor=(1.0, 0.5))\n",
    "plt.show()"
   ]
  },
  {
   "attachments": {},
   "cell_type": "markdown",
   "id": "7f1425d5",
   "metadata": {},
   "source": [
    "#### loan status vs Employment length\n"
   ]
  },
  {
   "cell_type": "code",
   "execution_count": 36,
   "id": "2f6dcff7",
   "metadata": {},
   "outputs": [
    {
     "data": {
      "image/png": "[encoded data removed]",
      "text/plain": [
       "<Figure size 720x720 with 1 Axes>"
      ]
     },
     "metadata": {
      "needs_background": "light"
     },
     "output_type": "display_data"
    }
   ],
   "source": [
    "#Group by Employment length and status and find out the count\n",
    "df_derive = loan_column_filter.groupby(['emp_length','loan_status'], as_index=False)['id'].count()\n",
    "df_derive['percentage'] = df_derive.groupby('emp_length').transform(lambda x: x/x.sum())\n",
    "plt.figure(figsize=(10,10))\n",
    "chat = sns.barplot(x='emp_length', y='percentage', hue='loan_status', data=df_derive, )\n",
    "plt.title(\"Loan Staus v/s Employment length\")\n",
    "plt.legend(loc='center left', bbox_to_anchor=(1.0, 0.5))\n",
    "plt.show()"
   ]
  },
  {
   "cell_type": "markdown",
   "id": "e90d9f88",
   "metadata": {},
   "source": [
    "#### loan status vs Home Ownership"
   ]
  },
  {
   "cell_type": "code",
   "execution_count": 37,
   "id": "f25cfe25",
   "metadata": {},
   "outputs": [
    {
     "data": {
      "image/png": "[encoded data removed]",
      "text/plain": [
       "<Figure size 432x288 with 1 Axes>"
      ]
     },
     "metadata": {
      "needs_background": "light"
     },
     "output_type": "display_data"
    }
   ],
   "source": [
    "#Group by Home Ownership and status and find out the count\n",
    "df_derive = loan_column_filter.groupby(['home_ownership','loan_status'], as_index=False)['id'].count()\n",
    "df_derive['percentage'] = df_derive.groupby('home_ownership').transform(lambda x: x/x.sum())\n",
    "# plt.figure(figsize=(10,10))\n",
    "chat = sns.barplot(x='home_ownership', y='percentage', hue='loan_status', data=df_derive, )\n",
    "plt.title(\"Loan Staus v/s Home Ownership\")\n",
    "plt.legend(loc='center left', bbox_to_anchor=(1.0, 0.5))\n",
    "plt.show()"
   ]
  },
  {
   "cell_type": "markdown",
   "id": "7cc53ddb",
   "metadata": {},
   "source": [
    "#### loan status vs Annual Income"
   ]
  },
  {
   "cell_type": "code",
   "execution_count": 84,
   "id": "5a153ca6",
   "metadata": {},
   "outputs": [
    {
     "data": {
      "image/png": "[encoded data removed]",
      "text/plain": [
       "<Figure size 432x288 with 1 Axes>"
      ]
     },
     "metadata": {
      "needs_background": "light"
     },
     "output_type": "display_data"
    }
   ],
   "source": [
    "chart = sns.boxplot(x=loan_column_filter.loan_status,y=loan_column_filter.annual_inc)\n",
    "plt.yscale('log')\n",
    "chart.set_title(\"Loan Staus v/s Annual Income\")\n",
    "plt.show()"
   ]
  },
  {
   "cell_type": "markdown",
   "id": "a31ccaa8",
   "metadata": {},
   "source": [
    "#### loan status vs Verification status"
   ]
  },
  {
   "cell_type": "code",
   "execution_count": 42,
   "id": "4fa78614",
   "metadata": {},
   "outputs": [
    {
     "data": {
      "image/png": "[encoded data removed]",
      "text/plain": [
       "<Figure size 432x288 with 1 Axes>"
      ]
     },
     "metadata": {
      "needs_background": "light"
     },
     "output_type": "display_data"
    }
   ],
   "source": [
    "#Group by Verification status and status and find out the count\n",
    "df_derive = loan_column_filter.groupby(['verification_status','loan_status'], as_index=False)['id'].count()\n",
    "df_derive['percentage'] = df_derive.groupby('verification_status').transform(lambda x: x/x.sum())\n",
    "# plt.figure(figsize=(10,10))\n",
    "chat = sns.barplot(x='verification_status', y='percentage', hue='loan_status', data=df_derive, )\n",
    "plt.title(\"Loan Staus v/s Verification Status\")\n",
    "plt.legend(loc='center left', bbox_to_anchor=(1.0, 0.5))\n",
    "plt.show()"
   ]
  },
  {
   "cell_type": "markdown",
   "id": "efe8d9df",
   "metadata": {},
   "source": [
    "#### loan status vs Purpose"
   ]
  },
  {
   "cell_type": "code",
   "execution_count": 82,
   "id": "8851a8e6",
   "metadata": {},
   "outputs": [
    {
     "data": {
      "image/png": "[encoded data removed]",
      "text/plain": [
       "<Figure size 1800x720 with 1 Axes>"
      ]
     },
     "metadata": {
      "needs_background": "light"
     },
     "output_type": "display_data"
    }
   ],
   "source": [
    "#Group by Purpose and status and find out the count\n",
    "df_derive = loan_column_filter.groupby(['purpose','loan_status'], as_index=False)['id'].count()\n",
    "df_derive['percentage'] = df_derive.groupby('purpose').transform(lambda x: x/x.sum())\n",
    "plt.figure(figsize=(25,10))\n",
    "chat = sns.barplot(x='purpose', y='percentage', hue='loan_status', data=df_derive, )\n",
    "plt.title(\"Loan Staus v/s purpose\")\n",
    "plt.legend(loc='center left', bbox_to_anchor=(1.0, 0.5))\n",
    "plt.show()"
   ]
  },
  {
   "cell_type": "code",
   "execution_count": null,
   "id": "82eff4b1",
   "metadata": {},
   "outputs": [],
   "source": []
  },
  {
   "cell_type": "code",
   "execution_count": null,
   "id": "584056f1",
   "metadata": {},
   "outputs": [],
   "source": []
  },
  {
   "cell_type": "code",
   "execution_count": null,
   "id": "7b375bc5",
   "metadata": {},
   "outputs": [],
   "source": []
  },
  {
   "cell_type": "markdown",
   "id": "40e7a62d",
   "metadata": {},
   "source": [
    "## 3.3 Observations\n",
    "People opting for short team loan (36 months) are relatively higher compated to long term loans (60 months)"
   ]
  },
  {
   "cell_type": "code",
   "execution_count": 39,
   "id": "ec02e555",
   "metadata": {},
   "outputs": [
    {
     "data": {
      "text/plain": [
       " 36 months    28399\n",
       " 60 months     9481\n",
       "Name: term, dtype: int64"
      ]
     },
     "execution_count": 39,
     "metadata": {},
     "output_type": "execute_result"
    }
   ],
   "source": [
    "loan_column_filter.term.value_counts()"
   ]
  },
  {
   "cell_type": "code",
   "execution_count": null,
   "id": "729c70f1",
   "metadata": {},
   "outputs": [],
   "source": []
  },
  {
   "cell_type": "code",
   "execution_count": null,
   "id": "01312a1f",
   "metadata": {},
   "outputs": [],
   "source": []
  },
  {
   "cell_type": "code",
   "execution_count": null,
   "id": "3e0e3b36",
   "metadata": {},
   "outputs": [],
   "source": []
  },
  {
   "cell_type": "code",
   "execution_count": null,
   "id": "f97acb03",
   "metadata": {},
   "outputs": [],
   "source": []
  },
  {
   "cell_type": "code",
   "execution_count": 40,
   "id": "a3499364",
   "metadata": {},
   "outputs": [
    {
     "data": {
      "text/plain": [
       "Index(['id', 'member_id', 'loan_amnt', 'funded_amnt', 'funded_amnt_inv',\n",
       "       'term', 'int_rate', 'installment', 'grade', 'sub_grade', 'emp_length',\n",
       "       'home_ownership', 'annual_inc', 'verification_status', 'issue_d',\n",
       "       'loan_status', 'url', 'purpose', 'title', 'zip_code', 'addr_state',\n",
       "       'dti', 'total_rec_prncp', 'pub_rec_bankruptcies'],\n",
       "      dtype='object')"
      ]
     },
     "execution_count": 40,
     "metadata": {},
     "output_type": "execute_result"
    }
   ],
   "source": [
    "loan_column_filter.columns"
   ]
  },
  {
   "cell_type": "code",
   "execution_count": null,
   "id": "3494d8f1",
   "metadata": {},
   "outputs": [],
   "source": []
  },
  {
   "cell_type": "code",
   "execution_count": null,
   "id": "ce585a38",
   "metadata": {},
   "outputs": [],
   "source": []
  },
  {
   "cell_type": "code",
   "execution_count": null,
   "id": "92616d51",
   "metadata": {},
   "outputs": [],
   "source": []
  },
  {
   "cell_type": "code",
   "execution_count": 68,
   "id": "1002e535",
   "metadata": {},
   "outputs": [],
   "source": [
    "loan_column_filter.to_csv(r\"C:\\Users\\i320807\\Desktop\\DS\\Case Study\\loan\\loan_filter1.csv\")"
   ]
  },
  {
   "cell_type": "code",
   "execution_count": null,
   "id": "d64a0c6c",
   "metadata": {},
   "outputs": [],
   "source": []
  }
 ],
 "metadata": {
  "kernelspec": {
   "display_name": "Python 3 (ipykernel)",
   "language": "python",
   "name": "python3"
  },
  "language_info": {
   "codemirror_mode": {
    "name": "ipython",
    "version": 3
   },
   "file_extension": ".py",
   "mimetype": "text/x-python",
   "name": "python",
   "nbconvert_exporter": "python",
   "pygments_lexer": "ipython3",
   "version": "3.9.12"
  }
 },
 "nbformat": 4,
 "nbformat_minor": 5
}
